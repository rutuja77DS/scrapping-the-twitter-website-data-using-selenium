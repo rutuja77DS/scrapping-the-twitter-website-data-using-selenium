{
 "cells": [
  {
   "cell_type": "code",
   "execution_count": 61,
   "id": "aaadacfe",
   "metadata": {},
   "outputs": [
    {
     "name": "stdout",
     "output_type": "stream",
     "text": [
      "Requirement already satisfied: selenium in c:\\users\\dell\\anaconda3\\envs\\dssa\\lib\\site-packages (3.141.0)\n",
      "Requirement already satisfied: urllib3 in c:\\users\\dell\\anaconda3\\envs\\dssa\\lib\\site-packages (from selenium) (1.26.9)\n"
     ]
    }
   ],
   "source": [
    "!pip install selenium "
   ]
  },
  {
   "cell_type": "code",
   "execution_count": 62,
   "id": "0fcab258",
   "metadata": {},
   "outputs": [
    {
     "name": "stdout",
     "output_type": "stream",
     "text": [
      "Requirement already satisfied: msedge.selenium_tools in c:\\users\\dell\\anaconda3\\envs\\dssa\\lib\\site-packages (3.141.4)\n",
      "Requirement already satisfied: selenium==3.141 in c:\\users\\dell\\anaconda3\\envs\\dssa\\lib\\site-packages (from msedge.selenium_tools) (3.141.0)\n",
      "Requirement already satisfied: urllib3 in c:\\users\\dell\\anaconda3\\envs\\dssa\\lib\\site-packages (from selenium==3.141->msedge.selenium_tools) (1.26.9)\n"
     ]
    }
   ],
   "source": [
    "!pip install msedge.selenium_tools"
   ]
  },
  {
   "cell_type": "code",
   "execution_count": 63,
   "id": "15ef046e",
   "metadata": {},
   "outputs": [
    {
     "name": "stdout",
     "output_type": "stream",
     "text": [
      "Requirement already satisfied: webdriver_manager in c:\\users\\dell\\anaconda3\\envs\\dssa\\lib\\site-packages (3.5.4)\n",
      "Requirement already satisfied: requests in c:\\users\\dell\\anaconda3\\envs\\dssa\\lib\\site-packages (from webdriver_manager) (2.27.1)\n",
      "Requirement already satisfied: idna<4,>=2.5 in c:\\users\\dell\\anaconda3\\envs\\dssa\\lib\\site-packages (from requests->webdriver_manager) (3.3)\n",
      "Requirement already satisfied: certifi>=2017.4.17 in c:\\users\\dell\\anaconda3\\envs\\dssa\\lib\\site-packages (from requests->webdriver_manager) (2021.10.8)\n",
      "Requirement already satisfied: urllib3<1.27,>=1.21.1 in c:\\users\\dell\\anaconda3\\envs\\dssa\\lib\\site-packages (from requests->webdriver_manager) (1.26.9)\n",
      "Requirement already satisfied: charset-normalizer~=2.0.0 in c:\\users\\dell\\anaconda3\\envs\\dssa\\lib\\site-packages (from requests->webdriver_manager) (2.0.12)\n"
     ]
    }
   ],
   "source": [
    "!pip install webdriver_manager"
   ]
  },
  {
   "cell_type": "code",
   "execution_count": 64,
   "id": "213b22fa",
   "metadata": {},
   "outputs": [],
   "source": [
    "import re\n",
    "import csv\n",
    "from getpass import getpass\n",
    "from time import sleep\n",
    "from selenium import webdriver\n",
    "from selenium.webdriver.common.keys import Keys\n",
    "from selenium.common.exceptions import NoSuchElementException\n",
    "from msedge.selenium_tools import Edge, EdgeOptions "
   ]
  },
  {
   "cell_type": "code",
   "execution_count": 65,
   "id": "ae59deba",
   "metadata": {},
   "outputs": [
    {
     "name": "stderr",
     "output_type": "stream",
     "text": [
      "\n",
      "\n",
      "====== WebDriver manager ======\n",
      "Current google-chrome version is 103.0.5060\n",
      "Get LATEST chromedriver version for 103.0.5060 google-chrome\n",
      "Driver [C:\\Users\\dell\\.wdm\\drivers\\chromedriver\\win32\\103.0.5060.134\\chromedriver.exe] found in cache\n"
     ]
    }
   ],
   "source": [
    "from selenium import webdriver\n",
    "from webdriver_manager.chrome import ChromeDriverManager\n",
    "driver = webdriver.Chrome(ChromeDriverManager().install())\n",
    "driver.maximize_window()\n",
    "driver.get(\"https://google.com\")"
   ]
  },
  {
   "cell_type": "code",
   "execution_count": 66,
   "id": "61561b5d",
   "metadata": {},
   "outputs": [],
   "source": [
    "# navigate to login screen\n",
    "driver.get('https://twitter.com/login')"
   ]
  },
  {
   "cell_type": "code",
   "execution_count": 67,
   "id": "4e7c8a41",
   "metadata": {},
   "outputs": [
    {
     "ename": "NoSuchElementException",
     "evalue": "Message: no such element: Unable to locate element: {\"method\":\"xpath\",\"selector\":\"//input[@name=\"text\"]\"}\n  (Session info: chrome=103.0.5060.114)\n",
     "output_type": "error",
     "traceback": [
      "\u001b[1;31m---------------------------------------------------------------------------\u001b[0m",
      "\u001b[1;31mNoSuchElementException\u001b[0m                    Traceback (most recent call last)",
      "\u001b[1;32m~\\AppData\\Local\\Temp/ipykernel_21448/2273502370.py\u001b[0m in \u001b[0;36m<module>\u001b[1;34m\u001b[0m\n\u001b[1;32m----> 1\u001b[1;33m \u001b[0musername\u001b[0m \u001b[1;33m=\u001b[0m \u001b[0mdriver\u001b[0m\u001b[1;33m.\u001b[0m\u001b[0mfind_element_by_xpath\u001b[0m\u001b[1;33m(\u001b[0m\u001b[1;34m'//input[@name=\"text\"]'\u001b[0m\u001b[1;33m)\u001b[0m\u001b[1;33m\u001b[0m\u001b[1;33m\u001b[0m\u001b[0m\n\u001b[0m\u001b[0;32m      2\u001b[0m \u001b[0musername\u001b[0m\u001b[1;33m.\u001b[0m\u001b[0msend_keys\u001b[0m\u001b[1;33m(\u001b[0m\u001b[1;34m'rutujaraje77@gmail.com'\u001b[0m\u001b[1;33m)\u001b[0m\u001b[1;33m\u001b[0m\u001b[1;33m\u001b[0m\u001b[0m\n",
      "\u001b[1;32m~\\anaconda3\\envs\\DSSA\\lib\\site-packages\\selenium\\webdriver\\remote\\webdriver.py\u001b[0m in \u001b[0;36mfind_element_by_xpath\u001b[1;34m(self, xpath)\u001b[0m\n\u001b[0;32m    392\u001b[0m             \u001b[0melement\u001b[0m \u001b[1;33m=\u001b[0m \u001b[0mdriver\u001b[0m\u001b[1;33m.\u001b[0m\u001b[0mfind_element_by_xpath\u001b[0m\u001b[1;33m(\u001b[0m\u001b[1;34m'//div/td[1]'\u001b[0m\u001b[1;33m)\u001b[0m\u001b[1;33m\u001b[0m\u001b[1;33m\u001b[0m\u001b[0m\n\u001b[0;32m    393\u001b[0m         \"\"\"\n\u001b[1;32m--> 394\u001b[1;33m         \u001b[1;32mreturn\u001b[0m \u001b[0mself\u001b[0m\u001b[1;33m.\u001b[0m\u001b[0mfind_element\u001b[0m\u001b[1;33m(\u001b[0m\u001b[0mby\u001b[0m\u001b[1;33m=\u001b[0m\u001b[0mBy\u001b[0m\u001b[1;33m.\u001b[0m\u001b[0mXPATH\u001b[0m\u001b[1;33m,\u001b[0m \u001b[0mvalue\u001b[0m\u001b[1;33m=\u001b[0m\u001b[0mxpath\u001b[0m\u001b[1;33m)\u001b[0m\u001b[1;33m\u001b[0m\u001b[1;33m\u001b[0m\u001b[0m\n\u001b[0m\u001b[0;32m    395\u001b[0m \u001b[1;33m\u001b[0m\u001b[0m\n\u001b[0;32m    396\u001b[0m     \u001b[1;32mdef\u001b[0m \u001b[0mfind_elements_by_xpath\u001b[0m\u001b[1;33m(\u001b[0m\u001b[0mself\u001b[0m\u001b[1;33m,\u001b[0m \u001b[0mxpath\u001b[0m\u001b[1;33m)\u001b[0m\u001b[1;33m:\u001b[0m\u001b[1;33m\u001b[0m\u001b[1;33m\u001b[0m\u001b[0m\n",
      "\u001b[1;32m~\\anaconda3\\envs\\DSSA\\lib\\site-packages\\selenium\\webdriver\\remote\\webdriver.py\u001b[0m in \u001b[0;36mfind_element\u001b[1;34m(self, by, value)\u001b[0m\n\u001b[0;32m    974\u001b[0m                 \u001b[0mby\u001b[0m \u001b[1;33m=\u001b[0m \u001b[0mBy\u001b[0m\u001b[1;33m.\u001b[0m\u001b[0mCSS_SELECTOR\u001b[0m\u001b[1;33m\u001b[0m\u001b[1;33m\u001b[0m\u001b[0m\n\u001b[0;32m    975\u001b[0m                 \u001b[0mvalue\u001b[0m \u001b[1;33m=\u001b[0m \u001b[1;34m'[name=\"%s\"]'\u001b[0m \u001b[1;33m%\u001b[0m \u001b[0mvalue\u001b[0m\u001b[1;33m\u001b[0m\u001b[1;33m\u001b[0m\u001b[0m\n\u001b[1;32m--> 976\u001b[1;33m         return self.execute(Command.FIND_ELEMENT, {\n\u001b[0m\u001b[0;32m    977\u001b[0m             \u001b[1;34m'using'\u001b[0m\u001b[1;33m:\u001b[0m \u001b[0mby\u001b[0m\u001b[1;33m,\u001b[0m\u001b[1;33m\u001b[0m\u001b[1;33m\u001b[0m\u001b[0m\n\u001b[0;32m    978\u001b[0m             'value': value})['value']\n",
      "\u001b[1;32m~\\anaconda3\\envs\\DSSA\\lib\\site-packages\\selenium\\webdriver\\remote\\webdriver.py\u001b[0m in \u001b[0;36mexecute\u001b[1;34m(self, driver_command, params)\u001b[0m\n\u001b[0;32m    319\u001b[0m         \u001b[0mresponse\u001b[0m \u001b[1;33m=\u001b[0m \u001b[0mself\u001b[0m\u001b[1;33m.\u001b[0m\u001b[0mcommand_executor\u001b[0m\u001b[1;33m.\u001b[0m\u001b[0mexecute\u001b[0m\u001b[1;33m(\u001b[0m\u001b[0mdriver_command\u001b[0m\u001b[1;33m,\u001b[0m \u001b[0mparams\u001b[0m\u001b[1;33m)\u001b[0m\u001b[1;33m\u001b[0m\u001b[1;33m\u001b[0m\u001b[0m\n\u001b[0;32m    320\u001b[0m         \u001b[1;32mif\u001b[0m \u001b[0mresponse\u001b[0m\u001b[1;33m:\u001b[0m\u001b[1;33m\u001b[0m\u001b[1;33m\u001b[0m\u001b[0m\n\u001b[1;32m--> 321\u001b[1;33m             \u001b[0mself\u001b[0m\u001b[1;33m.\u001b[0m\u001b[0merror_handler\u001b[0m\u001b[1;33m.\u001b[0m\u001b[0mcheck_response\u001b[0m\u001b[1;33m(\u001b[0m\u001b[0mresponse\u001b[0m\u001b[1;33m)\u001b[0m\u001b[1;33m\u001b[0m\u001b[1;33m\u001b[0m\u001b[0m\n\u001b[0m\u001b[0;32m    322\u001b[0m             response['value'] = self._unwrap_value(\n\u001b[0;32m    323\u001b[0m                 response.get('value', None))\n",
      "\u001b[1;32m~\\anaconda3\\envs\\DSSA\\lib\\site-packages\\selenium\\webdriver\\remote\\errorhandler.py\u001b[0m in \u001b[0;36mcheck_response\u001b[1;34m(self, response)\u001b[0m\n\u001b[0;32m    240\u001b[0m                 \u001b[0malert_text\u001b[0m \u001b[1;33m=\u001b[0m \u001b[0mvalue\u001b[0m\u001b[1;33m[\u001b[0m\u001b[1;34m'alert'\u001b[0m\u001b[1;33m]\u001b[0m\u001b[1;33m.\u001b[0m\u001b[0mget\u001b[0m\u001b[1;33m(\u001b[0m\u001b[1;34m'text'\u001b[0m\u001b[1;33m)\u001b[0m\u001b[1;33m\u001b[0m\u001b[1;33m\u001b[0m\u001b[0m\n\u001b[0;32m    241\u001b[0m             \u001b[1;32mraise\u001b[0m \u001b[0mexception_class\u001b[0m\u001b[1;33m(\u001b[0m\u001b[0mmessage\u001b[0m\u001b[1;33m,\u001b[0m \u001b[0mscreen\u001b[0m\u001b[1;33m,\u001b[0m \u001b[0mstacktrace\u001b[0m\u001b[1;33m,\u001b[0m \u001b[0malert_text\u001b[0m\u001b[1;33m)\u001b[0m\u001b[1;33m\u001b[0m\u001b[1;33m\u001b[0m\u001b[0m\n\u001b[1;32m--> 242\u001b[1;33m         \u001b[1;32mraise\u001b[0m \u001b[0mexception_class\u001b[0m\u001b[1;33m(\u001b[0m\u001b[0mmessage\u001b[0m\u001b[1;33m,\u001b[0m \u001b[0mscreen\u001b[0m\u001b[1;33m,\u001b[0m \u001b[0mstacktrace\u001b[0m\u001b[1;33m)\u001b[0m\u001b[1;33m\u001b[0m\u001b[1;33m\u001b[0m\u001b[0m\n\u001b[0m\u001b[0;32m    243\u001b[0m \u001b[1;33m\u001b[0m\u001b[0m\n\u001b[0;32m    244\u001b[0m     \u001b[1;32mdef\u001b[0m \u001b[0m_value_or_default\u001b[0m\u001b[1;33m(\u001b[0m\u001b[0mself\u001b[0m\u001b[1;33m,\u001b[0m \u001b[0mobj\u001b[0m\u001b[1;33m,\u001b[0m \u001b[0mkey\u001b[0m\u001b[1;33m,\u001b[0m \u001b[0mdefault\u001b[0m\u001b[1;33m)\u001b[0m\u001b[1;33m:\u001b[0m\u001b[1;33m\u001b[0m\u001b[1;33m\u001b[0m\u001b[0m\n",
      "\u001b[1;31mNoSuchElementException\u001b[0m: Message: no such element: Unable to locate element: {\"method\":\"xpath\",\"selector\":\"//input[@name=\"text\"]\"}\n  (Session info: chrome=103.0.5060.114)\n"
     ]
    }
   ],
   "source": [
    "username = driver.find_element_by_xpath('//input[@name=\"text\"]')\n",
    "username.send_keys('rutujaraje77@gmail.com')"
   ]
  },
  {
   "cell_type": "code",
   "execution_count": null,
   "id": "2b4001c9",
   "metadata": {},
   "outputs": [],
   "source": [
    "username.send_keys(Keys.RETURN)"
   ]
  },
  {
   "cell_type": "code",
   "execution_count": 37,
   "id": "e07c8378",
   "metadata": {},
   "outputs": [
    {
     "name": "stdout",
     "output_type": "stream",
     "text": [
      "········\n"
     ]
    }
   ],
   "source": [
    "my_password = getpass()"
   ]
  },
  {
   "cell_type": "code",
   "execution_count": 39,
   "id": "a07bbc63",
   "metadata": {},
   "outputs": [],
   "source": [
    "password = driver.find_element_by_xpath('//input[@name=\"password\"]')\n",
    "password.send_keys(my_password)"
   ]
  },
  {
   "cell_type": "code",
   "execution_count": 40,
   "id": "45aacf01",
   "metadata": {},
   "outputs": [],
   "source": [
    "password.send_keys(Keys.RETURN)"
   ]
  },
  {
   "cell_type": "code",
   "execution_count": 43,
   "id": "dc6f2833",
   "metadata": {},
   "outputs": [],
   "source": [
    "# find search input and search for term\n",
    "search_input = driver.find_element_by_xpath('//input[@aria-label=\"Search query\"]')\n",
    "search_input.send_keys(\"@NFTICALLY\")\n",
    "search_input.send_keys(Keys.RETURN)"
   ]
  },
  {
   "cell_type": "code",
   "execution_count": 44,
   "id": "77ee1540",
   "metadata": {},
   "outputs": [],
   "source": [
    "# navigate to 'people' tab\n",
    "driver.find_element_by_link_text('People').click()"
   ]
  },
  {
   "cell_type": "code",
   "execution_count": 45,
   "id": "9756c57c",
   "metadata": {},
   "outputs": [],
   "source": [
    "# navigate to 'people' tab\n",
    "driver.find_element_by_link_text('NFTICALLY').click()"
   ]
  },
  {
   "cell_type": "code",
   "execution_count": 47,
   "id": "f37c7c42",
   "metadata": {},
   "outputs": [],
   "source": [
    "# navigate to 'people' tab\n",
    "driver.find_element_by_link_text('10.8K Followers').click()"
   ]
  },
  {
   "cell_type": "code",
   "execution_count": 48,
   "id": "fcbd1491",
   "metadata": {},
   "outputs": [],
   "source": [
    "cards = driver.find_elements_by_xpath('//div[@data-testid=\"UserCell\"]')"
   ]
  },
  {
   "cell_type": "code",
   "execution_count": 49,
   "id": "a871354d",
   "metadata": {},
   "outputs": [],
   "source": [
    "card = cards[0]"
   ]
  },
  {
   "cell_type": "code",
   "execution_count": 50,
   "id": "0176476f",
   "metadata": {},
   "outputs": [
    {
     "data": {
      "text/plain": [
       "'Comearth'"
      ]
     },
     "execution_count": 50,
     "metadata": {},
     "output_type": "execute_result"
    }
   ],
   "source": [
    "#twitter handle name\n",
    "card.find_element_by_xpath('.//span[contains(text(),\"\")]').text"
   ]
  },
  {
   "cell_type": "code",
   "execution_count": 51,
   "id": "e5edf121",
   "metadata": {},
   "outputs": [
    {
     "data": {
      "text/plain": [
       "'@ComearthHQ'"
      ]
     },
     "execution_count": 51,
     "metadata": {},
     "output_type": "execute_result"
    }
   ],
   "source": [
    "#twitter username handle\n",
    "card.find_element_by_xpath('.//span[contains(text(),\"@\")]').text"
   ]
  },
  {
   "cell_type": "code",
   "execution_count": 52,
   "id": "f8ab35dc",
   "metadata": {},
   "outputs": [
    {
     "data": {
      "text/plain": [
       "'The go-to destination for #commerce in the #Metaverse! Join Discord: http://discord.gg/Comearth #Web3 #VR #ecommerce'"
      ]
     },
     "execution_count": 52,
     "metadata": {},
     "output_type": "execute_result"
    }
   ],
   "source": [
    "bio= card.find_element_by_xpath('.//div[1]/div[2]/div[2]').text\n",
    "bio"
   ]
  },
  {
   "cell_type": "code",
   "execution_count": 53,
   "id": "5040f8fd",
   "metadata": {},
   "outputs": [],
   "source": [
    "def get_tweet_data(card):\n",
    "    \n",
    "    name= card.find_element_by_xpath('.//span[contains(text(),\"\")]').text\n",
    "    username= card.find_element_by_xpath('.//span[contains(text(),\"@\")]').text\n",
    "    #bio= card.find_element_by_xpath('.//div[1]/div[2]/div[2]').text\n",
    "           \n",
    "     \n",
    "    try:\n",
    "        bio= card.find_element_by_xpath('.//div[1]/div[2]/div[2]').text\n",
    "        \n",
    "    except NoSuchElementException:\n",
    "        return\n",
    "        # bio= card.find_element_by_xpath('.//div[1]/div[2]/div[2]').text\n",
    "        \n",
    "   # except bio =  :\n",
    "        \n",
    "       # return\n",
    "    \n",
    "    tweet = (name, username,bio)\n",
    "    return tweet"
   ]
  },
  {
   "cell_type": "code",
   "execution_count": 54,
   "id": "2a608e20",
   "metadata": {},
   "outputs": [
    {
     "data": {
      "text/plain": [
       "('Comearth',\n",
       " '@ComearthHQ',\n",
       " 'The go-to destination for #commerce in the #Metaverse! Join Discord: http://discord.gg/Comearth #Web3 #VR #ecommerce')"
      ]
     },
     "execution_count": 54,
     "metadata": {},
     "output_type": "execute_result"
    }
   ],
   "source": [
    "get_tweet_data(card)"
   ]
  },
  {
   "cell_type": "code",
   "execution_count": 55,
   "id": "2b602e6b",
   "metadata": {},
   "outputs": [],
   "source": [
    "tweet_data = []\n",
    "\n",
    "for card in cards:\n",
    "    data = get_tweet_data(card)\n",
    "    if data:\n",
    "        tweet_data.append(data)\n",
    "    #print(data)"
   ]
  },
  {
   "cell_type": "code",
   "execution_count": 56,
   "id": "25c80ff8",
   "metadata": {},
   "outputs": [
    {
     "data": {
      "text/plain": [
       "('Comearth',\n",
       " '@ComearthHQ',\n",
       " 'The go-to destination for #commerce in the #Metaverse! Join Discord: http://discord.gg/Comearth #Web3 #VR #ecommerce')"
      ]
     },
     "execution_count": 56,
     "metadata": {},
     "output_type": "execute_result"
    }
   ],
   "source": [
    "tweet_data[0]"
   ]
  },
  {
   "cell_type": "code",
   "execution_count": 57,
   "id": "5efae5f4",
   "metadata": {},
   "outputs": [
    {
     "name": "stdout",
     "output_type": "stream",
     "text": [
      "[('Comearth', '@ComearthHQ', 'The go-to destination for #commerce in the #Metaverse! Join Discord: http://discord.gg/Comearth #Web3 #VR #ecommerce'), ('Melvin Thambi', '@ThambiMelvin', 'Artist & Co-founder\\n@EmmandEnn\\nNFTArtFam -\\n@melvinnimmy\\n,\\n@teresamelvinart\\nGroup A Artist\\n@MojoHeadsNft\\nPro Member\\n@thefuturishere\\nMentor\\n@adplist'), ('Cyber Shakti', '@CyberShakti', 'Keeping it REAL On-chain since 2020'), ('siyasense.eth', '@Siya_Siya_99', '#NFTArtist|#nftCollector|#Storyteller|Virtual Bartender|#web3|#SpacesHost & #CoHost|supporter #womeninnfts|Founder NFTIKI BAR\\n@ntikibar\\n& Goodsense'), ('Colours of India NFT / COI DAO', '@coi_nft', 'Community driven initiative to educate & empower South Asian artists in the NFT space. COI DAO coming soon. Featured Banner - Artists for Ariel'), ('Celio Aparecido Moraes Silva', '@celioap5926994', 'Deus e fiel'), ('IdeaConnect', '@ideaconnect2', 'A Silicon Valley based network connecting disruptive entrepreneurs with Seed, Angel, Series A, B, C and D funding. (408) 569-6758 garykolegraff@gmail.com'), ('Miwa', '@nonfungiblemiwa', 'Blockchain is the future of the internet. Web3 enthusiast and a DAO lover. Early supporter\\n@Pyme_team\\nContributor:\\n@casinoDao\\nFanatic:\\n@chelseafc'), ('Er.Ramesh Kumar', '@RameshK29801969', 'CIVIL ENGINEER,EVORICH MLCI BUSINESS, EXPORTER & IMPORTER, FANCY STORE, API STUDENT, MARATHON 260 STUDENT, INVESTMENT CONSULTANT CERTIFIED, PROFI - INVESTOR 1,2'), ('JIMN2', '@JIMN2V2', 'JIMN is integrated P2E blockchain galaxy game with unique NFT collection for in-game utility. http://JIMNGAME.com'), ('last Born', '@Sulaima7479', 'Always on Researching'), ('DarcyDonavan.x', '@darcydonavan', 'Film & Television Actress, Recording Artist, Producer, Author and#CryptoQueen http://facebook.com/officialdarcydonavan… Biz: OfficialDarcyDonavan@gmail.com'), ('Ummar I bawa', '@ummar_bawa', \"I'm UMMAR IDRIS BAWA I grew up in an extended family......\"), ('Abubakar Sulaiman Abba', '@saaadiqu', \"Alhamadulillah ala ni'inatil Islam.\"), ('Anastasia', '@Anastas27451050', 'What affects other will not affect me'), ('Raphael Ochuko', '@OchukoOchuko3', 'M.C JUST TOO FUNNY')]\n"
     ]
    }
   ],
   "source": [
    "print(tweet_data)"
   ]
  },
  {
   "cell_type": "code",
   "execution_count": 58,
   "id": "d17197af",
   "metadata": {},
   "outputs": [],
   "source": [
    "# get all followers information on the page\n",
    "data = []\n",
    "tweet_ids = set()\n",
    "last_position = driver.execute_script(\"return window.pageYOffset;\")\n",
    "scrolling = True\n",
    "\n",
    "while scrolling:\n",
    "    page_cards = driver.find_elements_by_xpath('//div[@data-testid=\"UserCell\"]')\n",
    "    for card in page_cards[:]:\n",
    "        tweet = get_tweet_data(card)\n",
    "        if tweet:\n",
    "            tweet_id = ''.join(tweet)\n",
    "            if tweet_id not in tweet_ids:\n",
    "                tweet_ids.add(tweet_id)\n",
    "                data.append(tweet)\n",
    "            \n",
    "    scroll_attempt = 0\n",
    "    while True:\n",
    "        # check scroll position\n",
    "        driver.execute_script('window.scrollTo(0, document.body.scrollHeight);')\n",
    "        sleep(2)\n",
    "        curr_position = driver.execute_script(\"return window.pageYOffset;\")\n",
    "        if last_position == curr_position:\n",
    "            scroll_attempt += 1\n",
    "            \n",
    "            # end of scroll region\n",
    "            if scroll_attempt >= 6:\n",
    "                scrolling = False\n",
    "                break\n",
    "            else:\n",
    "                sleep(2) # attempt another scroll\n",
    "        else:\n",
    "            last_position = curr_position\n",
    "            break\n",
    "\n",
    "# close the web driver\n",
    "driver.close()"
   ]
  },
  {
   "cell_type": "code",
   "execution_count": 60,
   "id": "0d215c0f",
   "metadata": {},
   "outputs": [
    {
     "data": {
      "text/plain": [
       "332"
      ]
     },
     "execution_count": 60,
     "metadata": {},
     "output_type": "execute_result"
    }
   ],
   "source": [
    "len(data)"
   ]
  },
  {
   "cell_type": "code",
   "execution_count": 82,
   "id": "df62aff4",
   "metadata": {},
   "outputs": [],
   "source": [
    "with open('Scrape_data1.csv', 'w', newline='', encoding='utf-8') as f:\n",
    "    header = ['name','username', 'bio']\n",
    "    writer = csv.writer(f)\n",
    "    writer.writerow(header)\n",
    "    writer.writerows(data)"
   ]
  },
  {
   "cell_type": "code",
   "execution_count": 83,
   "id": "a62cd24a",
   "metadata": {},
   "outputs": [
    {
     "data": {
      "text/html": [
       "<div>\n",
       "<style scoped>\n",
       "    .dataframe tbody tr th:only-of-type {\n",
       "        vertical-align: middle;\n",
       "    }\n",
       "\n",
       "    .dataframe tbody tr th {\n",
       "        vertical-align: top;\n",
       "    }\n",
       "\n",
       "    .dataframe thead th {\n",
       "        text-align: right;\n",
       "    }\n",
       "</style>\n",
       "<table border=\"1\" class=\"dataframe\">\n",
       "  <thead>\n",
       "    <tr style=\"text-align: right;\">\n",
       "      <th></th>\n",
       "      <th>name</th>\n",
       "      <th>username</th>\n",
       "      <th>bio</th>\n",
       "    </tr>\n",
       "  </thead>\n",
       "  <tbody>\n",
       "    <tr>\n",
       "      <th>0</th>\n",
       "      <td>Abeebullah Olamide</td>\n",
       "      <td>@Realharkanbi</td>\n",
       "      <td>Emerging Young Leader | Student Activist | Amb...</td>\n",
       "    </tr>\n",
       "    <tr>\n",
       "      <th>1</th>\n",
       "      <td>Bella White</td>\n",
       "      <td>@bellawhites809</td>\n",
       "      <td>A business expert with so much experience</td>\n",
       "    </tr>\n",
       "    <tr>\n",
       "      <th>2</th>\n",
       "      <td>#BIGSIA</td>\n",
       "      <td>@iam_ismaheel</td>\n",
       "      <td>Sometimes you have to just chill and vibe alon...</td>\n",
       "    </tr>\n",
       "    <tr>\n",
       "      <th>3</th>\n",
       "      <td>SON Of Grace</td>\n",
       "      <td>@SONKearneyBee</td>\n",
       "      <td>I'm an artiste young entertainer singer song w...</td>\n",
       "    </tr>\n",
       "    <tr>\n",
       "      <th>4</th>\n",
       "      <td>elchasid godson</td>\n",
       "      <td>@chasidGodson</td>\n",
       "      <td>I will write something later..</td>\n",
       "    </tr>\n",
       "  </tbody>\n",
       "</table>\n",
       "</div>"
      ],
      "text/plain": [
       "                 name         username  \\\n",
       "0  Abeebullah Olamide    @Realharkanbi   \n",
       "1         Bella White  @bellawhites809   \n",
       "2             #BIGSIA    @iam_ismaheel   \n",
       "3        SON Of Grace   @SONKearneyBee   \n",
       "4     elchasid godson    @chasidGodson   \n",
       "\n",
       "                                                 bio  \n",
       "0  Emerging Young Leader | Student Activist | Amb...  \n",
       "1          A business expert with so much experience  \n",
       "2  Sometimes you have to just chill and vibe alon...  \n",
       "3  I'm an artiste young entertainer singer song w...  \n",
       "4                     I will write something later..  "
      ]
     },
     "execution_count": 83,
     "metadata": {},
     "output_type": "execute_result"
    }
   ],
   "source": [
    "import pandas as pd\n",
    "df=pd.read_csv('Scrape_data1.csv')\n",
    "df.head(5)"
   ]
  },
  {
   "cell_type": "code",
   "execution_count": 84,
   "id": "89dd2c56",
   "metadata": {},
   "outputs": [
    {
     "name": "stdout",
     "output_type": "stream",
     "text": [
      "Total Number of followers which name ends with .eth are:  3\n"
     ]
    },
    {
     "data": {
      "text/plain": [
       "128          Buklous.eth\n",
       "160       Xavier.ace.eth\n",
       "437    kritikakapoor.eth\n",
       "Name: name, dtype: object"
      ]
     },
     "execution_count": 84,
     "metadata": {},
     "output_type": "execute_result"
    }
   ],
   "source": [
    "#followers with name ending with .eth\n",
    "data_eth =df[df[\"name\"].str.contains(\".eth$\") == True]\n",
    "print(\"Total Number of followers which name ends with .eth are: \" ,data_eth[\"name\"].count())\n",
    "data_eth[\"name\"]"
   ]
  },
  {
   "cell_type": "code",
   "execution_count": 49,
   "id": "7d5e861e",
   "metadata": {},
   "outputs": [],
   "source": [
    "data_eth[\"name\"].to_csv(\"Output_1.csv\")"
   ]
  },
  {
   "cell_type": "code",
   "execution_count": 86,
   "id": "cbe5ea93",
   "metadata": {},
   "outputs": [
    {
     "name": "stdout",
     "output_type": "stream",
     "text": [
      "Total Number of followers which contain NFT or #NFT in their bio are:  30\n"
     ]
    },
    {
     "data": {
      "text/html": [
       "<div>\n",
       "<style scoped>\n",
       "    .dataframe tbody tr th:only-of-type {\n",
       "        vertical-align: middle;\n",
       "    }\n",
       "\n",
       "    .dataframe tbody tr th {\n",
       "        vertical-align: top;\n",
       "    }\n",
       "\n",
       "    .dataframe thead th {\n",
       "        text-align: right;\n",
       "    }\n",
       "</style>\n",
       "<table border=\"1\" class=\"dataframe\">\n",
       "  <thead>\n",
       "    <tr style=\"text-align: right;\">\n",
       "      <th></th>\n",
       "      <th>name</th>\n",
       "      <th>username</th>\n",
       "      <th>bio</th>\n",
       "    </tr>\n",
       "  </thead>\n",
       "  <tbody>\n",
       "    <tr>\n",
       "      <th>13</th>\n",
       "      <td>GREAT ERUKANURE</td>\n",
       "      <td>@GErukanure</td>\n",
       "      <td>The Dawn is upon us| Student of Life..| NFT ar...</td>\n",
       "    </tr>\n",
       "    <tr>\n",
       "      <th>22</th>\n",
       "      <td>Abraham Olamide Olatunji</td>\n",
       "      <td>@AbrahamOlamide7</td>\n",
       "      <td>I am an entrepreneur|Mechanical engineering st...</td>\n",
       "    </tr>\n",
       "    <tr>\n",
       "      <th>35</th>\n",
       "      <td>Smog Charles</td>\n",
       "      <td>@charles_smog</td>\n",
       "      <td>A Crypto Enthusiastic Individual With Much Int...</td>\n",
       "    </tr>\n",
       "    <tr>\n",
       "      <th>37</th>\n",
       "      <td>WoW Arts CLN</td>\n",
       "      <td>@ElderNurudeen</td>\n",
       "      <td>WoW Arts CLN is New NFT project with big futur...</td>\n",
       "    </tr>\n",
       "    <tr>\n",
       "      <th>39</th>\n",
       "      <td>Mkhandy</td>\n",
       "      <td>@MkhandyReal</td>\n",
       "      <td>#Multimedia #Artist #NFT #Music @ https://audi...</td>\n",
       "    </tr>\n",
       "    <tr>\n",
       "      <th>83</th>\n",
       "      <td>Ejenavwo Ogba Great</td>\n",
       "      <td>@greatinho9</td>\n",
       "      <td>We may encounter many defeats but we can never...</td>\n",
       "    </tr>\n",
       "    <tr>\n",
       "      <th>131</th>\n",
       "      <td>Tragic bouy NFT</td>\n",
       "      <td>@fq_tragic</td>\n",
       "      <td>Music producer|Cinematographer|Love NFT| start...</td>\n",
       "    </tr>\n",
       "    <tr>\n",
       "      <th>133</th>\n",
       "      <td>Warren Aguilar</td>\n",
       "      <td>@Nottooold4W</td>\n",
       "      <td>Early bitcoin adopter,Advisor,sell-side analys...</td>\n",
       "    </tr>\n",
       "    <tr>\n",
       "      <th>135</th>\n",
       "      <td>john emmanuel</td>\n",
       "      <td>@johnnyjuiceee</td>\n",
       "      <td>NFT hub$$$$$</td>\n",
       "    </tr>\n",
       "    <tr>\n",
       "      <th>148</th>\n",
       "      <td>WittyB</td>\n",
       "      <td>@bernsv2g</td>\n",
       "      <td>NFT Collector | Web3 Enthusiast | #3055 Mad Ha...</td>\n",
       "    </tr>\n",
       "    <tr>\n",
       "      <th>164</th>\n",
       "      <td>AfricannaNFT</td>\n",
       "      <td>@AkinadeBoluwat3</td>\n",
       "      <td>Fun, enterprising , NFTcreator, Forex trader, ...</td>\n",
       "    </tr>\n",
       "    <tr>\n",
       "      <th>165</th>\n",
       "      <td>Solomon Nnaji.Ξ</td>\n",
       "      <td>@SoMuchBeam</td>\n",
       "      <td>Art | NFT | Crypto | Gaming</td>\n",
       "    </tr>\n",
       "    <tr>\n",
       "      <th>194</th>\n",
       "      <td>NFT LORDS</td>\n",
       "      <td>@Samuel02927721</td>\n",
       "      <td>FOLLOW ME FOR NFTs giveaway</td>\n",
       "    </tr>\n",
       "    <tr>\n",
       "      <th>225</th>\n",
       "      <td>juwe curfew</td>\n",
       "      <td>@CurfewJuwe</td>\n",
       "      <td>im not a digital artist i am a filipino All i ...</td>\n",
       "    </tr>\n",
       "    <tr>\n",
       "      <th>236</th>\n",
       "      <td>KARIQ™ 𓃵</td>\n",
       "      <td>@officialkariq</td>\n",
       "      <td>#KariQ𓃵 DronePilot| ikill Rapist| CCTV|Cyberse...</td>\n",
       "    </tr>\n",
       "    <tr>\n",
       "      <th>244</th>\n",
       "      <td>chidoro_faith</td>\n",
       "      <td>@ChidoroF</td>\n",
       "      <td>NFT creator, graphic artist...check out my por...</td>\n",
       "    </tr>\n",
       "    <tr>\n",
       "      <th>247</th>\n",
       "      <td>Ayşen Baloğlu</td>\n",
       "      <td>@aysenbaloglu</td>\n",
       "      <td>I am a cartoonist, illustrator, author of chil...</td>\n",
       "    </tr>\n",
       "    <tr>\n",
       "      <th>249</th>\n",
       "      <td>iMBdigital.Gallery_</td>\n",
       "      <td>@ImbFrank</td>\n",
       "      <td>Curated digital photo projects are regularly t...</td>\n",
       "    </tr>\n",
       "    <tr>\n",
       "      <th>270</th>\n",
       "      <td>Akorede Champ</td>\n",
       "      <td>@Akorede98832275</td>\n",
       "      <td>Na Time to Tell _sainteye NFT_</td>\n",
       "    </tr>\n",
       "    <tr>\n",
       "      <th>283</th>\n",
       "      <td>إسمي مبارك Đ ŃFŢ</td>\n",
       "      <td>@Just_abolore</td>\n",
       "      <td>2022 Profile: Energy|| Traditional Investment|...</td>\n",
       "    </tr>\n",
       "    <tr>\n",
       "      <th>290</th>\n",
       "      <td>Gotham</td>\n",
       "      <td>@vickins22</td>\n",
       "      <td>an agricultural engineer..&amp; consultancy..anima...</td>\n",
       "    </tr>\n",
       "    <tr>\n",
       "      <th>296</th>\n",
       "      <td>Derick</td>\n",
       "      <td>@Trifecta_001</td>\n",
       "      <td>•Blockchain/Cryptocurrency• #Pancakelock_ #Soc...</td>\n",
       "    </tr>\n",
       "    <tr>\n",
       "      <th>306</th>\n",
       "      <td>Elvis tattoo</td>\n",
       "      <td>@Elvistatuador</td>\n",
       "      <td>tattoo ,musica, filmes, games, tecnologia, mun...</td>\n",
       "    </tr>\n",
       "    <tr>\n",
       "      <th>314</th>\n",
       "      <td>Crypto Gems</td>\n",
       "      <td>@CryptoGemsCom</td>\n",
       "      <td>Gem Hunter #Bitcoin #Ethereum #BSC #BNB #Solan...</td>\n",
       "    </tr>\n",
       "    <tr>\n",
       "      <th>318</th>\n",
       "      <td>Danny Marvel</td>\n",
       "      <td>@Dannymarvel7G</td>\n",
       "      <td>Defi Trader l NFT's l SmartDefi l Crypto NewsM...</td>\n",
       "    </tr>\n",
       "    <tr>\n",
       "      <th>319</th>\n",
       "      <td>Priyanka Jain (She/Her)</td>\n",
       "      <td>@priyankajain1</td>\n",
       "      <td>Communication Professional | Artist (NFT, Acry...</td>\n",
       "    </tr>\n",
       "    <tr>\n",
       "      <th>330</th>\n",
       "      <td>Lewisxian</td>\n",
       "      <td>@Savage_xian</td>\n",
       "      <td>No one can possible out run their destiny Aspi...</td>\n",
       "    </tr>\n",
       "    <tr>\n",
       "      <th>430</th>\n",
       "      <td>Mumeen Jamiu</td>\n",
       "      <td>@JamiuJamiu5</td>\n",
       "      <td>New to NFT and have a wonderful collection and...</td>\n",
       "    </tr>\n",
       "    <tr>\n",
       "      <th>437</th>\n",
       "      <td>kritikakapoor.eth</td>\n",
       "      <td>@Kritikaaa_10</td>\n",
       "      <td>Non-fungible Human | NFT and Web 3 Enthusiast ...</td>\n",
       "    </tr>\n",
       "    <tr>\n",
       "      <th>448</th>\n",
       "      <td>Mukhy</td>\n",
       "      <td>@mawaxyl</td>\n",
       "      <td>Software Engineer | Data Scientist | Data Anal...</td>\n",
       "    </tr>\n",
       "  </tbody>\n",
       "</table>\n",
       "</div>"
      ],
      "text/plain": [
       "                         name          username  \\\n",
       "13            GREAT ERUKANURE       @GErukanure   \n",
       "22   Abraham Olamide Olatunji  @AbrahamOlamide7   \n",
       "35               Smog Charles     @charles_smog   \n",
       "37               WoW Arts CLN    @ElderNurudeen   \n",
       "39                    Mkhandy      @MkhandyReal   \n",
       "83        Ejenavwo Ogba Great       @greatinho9   \n",
       "131           Tragic bouy NFT        @fq_tragic   \n",
       "133            Warren Aguilar      @Nottooold4W   \n",
       "135             john emmanuel    @johnnyjuiceee   \n",
       "148                    WittyB         @bernsv2g   \n",
       "164              AfricannaNFT  @AkinadeBoluwat3   \n",
       "165           Solomon Nnaji.Ξ       @SoMuchBeam   \n",
       "194                 NFT LORDS   @Samuel02927721   \n",
       "225               juwe curfew       @CurfewJuwe   \n",
       "236                  KARIQ™ 𓃵    @officialkariq   \n",
       "244             chidoro_faith         @ChidoroF   \n",
       "247             Ayşen Baloğlu     @aysenbaloglu   \n",
       "249       iMBdigital.Gallery_         @ImbFrank   \n",
       "270             Akorede Champ  @Akorede98832275   \n",
       "283          إسمي مبارك Đ ŃFŢ     @Just_abolore   \n",
       "290                    Gotham        @vickins22   \n",
       "296                    Derick     @Trifecta_001   \n",
       "306              Elvis tattoo    @Elvistatuador   \n",
       "314               Crypto Gems    @CryptoGemsCom   \n",
       "318              Danny Marvel    @Dannymarvel7G   \n",
       "319   Priyanka Jain (She/Her)    @priyankajain1   \n",
       "330                 Lewisxian      @Savage_xian   \n",
       "430              Mumeen Jamiu      @JamiuJamiu5   \n",
       "437         kritikakapoor.eth     @Kritikaaa_10   \n",
       "448                     Mukhy          @mawaxyl   \n",
       "\n",
       "                                                   bio  \n",
       "13   The Dawn is upon us| Student of Life..| NFT ar...  \n",
       "22   I am an entrepreneur|Mechanical engineering st...  \n",
       "35   A Crypto Enthusiastic Individual With Much Int...  \n",
       "37   WoW Arts CLN is New NFT project with big futur...  \n",
       "39   #Multimedia #Artist #NFT #Music @ https://audi...  \n",
       "83   We may encounter many defeats but we can never...  \n",
       "131  Music producer|Cinematographer|Love NFT| start...  \n",
       "133  Early bitcoin adopter,Advisor,sell-side analys...  \n",
       "135                                       NFT hub$$$$$  \n",
       "148  NFT Collector | Web3 Enthusiast | #3055 Mad Ha...  \n",
       "164  Fun, enterprising , NFTcreator, Forex trader, ...  \n",
       "165                        Art | NFT | Crypto | Gaming  \n",
       "194                        FOLLOW ME FOR NFTs giveaway  \n",
       "225  im not a digital artist i am a filipino All i ...  \n",
       "236  #KariQ𓃵 DronePilot| ikill Rapist| CCTV|Cyberse...  \n",
       "244  NFT creator, graphic artist...check out my por...  \n",
       "247  I am a cartoonist, illustrator, author of chil...  \n",
       "249  Curated digital photo projects are regularly t...  \n",
       "270                     Na Time to Tell _sainteye NFT_  \n",
       "283  2022 Profile: Energy|| Traditional Investment|...  \n",
       "290  an agricultural engineer..& consultancy..anima...  \n",
       "296  •Blockchain/Cryptocurrency• #Pancakelock_ #Soc...  \n",
       "306  tattoo ,musica, filmes, games, tecnologia, mun...  \n",
       "314  Gem Hunter #Bitcoin #Ethereum #BSC #BNB #Solan...  \n",
       "318  Defi Trader l NFT's l SmartDefi l Crypto NewsM...  \n",
       "319  Communication Professional | Artist (NFT, Acry...  \n",
       "330  No one can possible out run their destiny Aspi...  \n",
       "430  New to NFT and have a wonderful collection and...  \n",
       "437  Non-fungible Human | NFT and Web 3 Enthusiast ...  \n",
       "448  Software Engineer | Data Scientist | Data Anal...  "
      ]
     },
     "execution_count": 86,
     "metadata": {},
     "output_type": "execute_result"
    }
   ],
   "source": [
    "#followers with NFT in bio\n",
    "df_nft = df[df[\"bio\"].str.contains(\"NFT\", \"#NFT\") == True]\n",
    "print(\"Total Number of followers which contain NFT or #NFT in their bio are: \" ,df_nft[\"bio\"].count())\n",
    "df_nft"
   ]
  },
  {
   "cell_type": "code",
   "execution_count": 52,
   "id": "b35131a8",
   "metadata": {},
   "outputs": [],
   "source": [
    "df_nft[\"bio\"].to_csv(\"Output_2.csv\")"
   ]
  },
  {
   "cell_type": "code",
   "execution_count": 87,
   "id": "38edde27",
   "metadata": {},
   "outputs": [
    {
     "name": "stdout",
     "output_type": "stream",
     "text": [
      "Total Number of followers which contain .eth and NFT or #NFT are:  1\n"
     ]
    },
    {
     "data": {
      "text/html": [
       "<div>\n",
       "<style scoped>\n",
       "    .dataframe tbody tr th:only-of-type {\n",
       "        vertical-align: middle;\n",
       "    }\n",
       "\n",
       "    .dataframe tbody tr th {\n",
       "        vertical-align: top;\n",
       "    }\n",
       "\n",
       "    .dataframe thead th {\n",
       "        text-align: right;\n",
       "    }\n",
       "</style>\n",
       "<table border=\"1\" class=\"dataframe\">\n",
       "  <thead>\n",
       "    <tr style=\"text-align: right;\">\n",
       "      <th></th>\n",
       "      <th>name</th>\n",
       "      <th>username</th>\n",
       "      <th>bio</th>\n",
       "    </tr>\n",
       "  </thead>\n",
       "  <tbody>\n",
       "    <tr>\n",
       "      <th>437</th>\n",
       "      <td>kritikakapoor.eth</td>\n",
       "      <td>@Kritikaaa_10</td>\n",
       "      <td>Non-fungible Human | NFT and Web 3 Enthusiast ...</td>\n",
       "    </tr>\n",
       "  </tbody>\n",
       "</table>\n",
       "</div>"
      ],
      "text/plain": [
       "                  name       username  \\\n",
       "437  kritikakapoor.eth  @Kritikaaa_10   \n",
       "\n",
       "                                                   bio  \n",
       "437  Non-fungible Human | NFT and Web 3 Enthusiast ...  "
      ]
     },
     "execution_count": 87,
     "metadata": {},
     "output_type": "execute_result"
    }
   ],
   "source": [
    "#Name ends with .eth and nft\n",
    "data_eth_nft = data_eth[data_eth[\"bio\"].str.contains(\"NFT\", \"#NFT\") == True]\n",
    "print(\"Total Number of followers which contain .eth and NFT or #NFT are: \" ,data_eth_nft[\"bio\"].count())\n",
    "data_eth_nft"
   ]
  },
  {
   "cell_type": "code",
   "execution_count": 54,
   "id": "0cc89004",
   "metadata": {},
   "outputs": [],
   "source": [
    "data_eth_nft.to_csv(\"Output_3.csv\")"
   ]
  },
  {
   "cell_type": "code",
   "execution_count": null,
   "id": "345fdcf1",
   "metadata": {},
   "outputs": [],
   "source": []
  }
 ],
 "metadata": {
  "kernelspec": {
   "display_name": "Python 3 (ipykernel)",
   "language": "python",
   "name": "python3"
  },
  "language_info": {
   "codemirror_mode": {
    "name": "ipython",
    "version": 3
   },
   "file_extension": ".py",
   "mimetype": "text/x-python",
   "name": "python",
   "nbconvert_exporter": "python",
   "pygments_lexer": "ipython3",
   "version": "3.9.7"
  }
 },
 "nbformat": 4,
 "nbformat_minor": 5
}
